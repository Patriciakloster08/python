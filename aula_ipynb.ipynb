{
  "nbformat": 4,
  "nbformat_minor": 0,
  "metadata": {
    "colab": {
      "provenance": [],
      "authorship_tag": "ABX9TyOxpvRUVikxtBhCJV56SfDm",
      "include_colab_link": true
    },
    "kernelspec": {
      "name": "python3",
      "display_name": "Python 3"
    },
    "language_info": {
      "name": "python"
    }
  },
  "cells": [
    {
      "cell_type": "markdown",
      "metadata": {
        "id": "view-in-github",
        "colab_type": "text"
      },
      "source": [
        "<a href=\"https://colab.research.google.com/github/Patriciakloster08/python/blob/main/aula_ipynb.ipynb\" target=\"_parent\"><img src=\"https://colab.research.google.com/assets/colab-badge.svg\" alt=\"Open In Colab\"/></a>"
      ]
    },
    {
      "cell_type": "markdown",
      "source": [
        "#**Aula 1** ⏰ 🔆 ✨\n"
      ],
      "metadata": {
        "id": "BZryUUk6yQ7c"
      }
    },
    {
      "cell_type": "code",
      "execution_count": null,
      "metadata": {
        "id": "-anDGdd7xTCR"
      },
      "outputs": [],
      "source": [
        "print(\"I competição de programação dá Start\")\n",
        "ano = \"II\"\n",
        "print(ano, \"competição de programação da Start\")\n",
        "print(f\"{ano} competição de programação da Start\")\n"
      ]
    },
    {
      "cell_type": "markdown",
      "source": [
        "#**Aula 2** 🥰 ✅ ✨"
      ],
      "metadata": {
        "id": "knsUQXP303xk"
      }
    },
    {
      "cell_type": "code",
      "source": [
        "livro_ficcao = 8\n",
        "livro_n_ficcao = 10\n",
        "livro_infantil = 6\n",
        "pontos_rodrigo = livro_ficcao + livro_n_ficcao + livro_infantil"
      ],
      "metadata": {
        "id": "M-5Pq70f09bC"
      },
      "execution_count": null,
      "outputs": []
    },
    {
      "cell_type": "markdown",
      "source": [
        "#**Aula 3** 💙 ✨ 💘"
      ],
      "metadata": {
        "id": "roTHnwOcwbd6"
      }
    },
    {
      "cell_type": "code",
      "source": [
        "numero_de_alunos = int(input(\"Digite a quantidade de alunos: \"))\n",
        "numero_de_monitores = int(input(\"Digite a quantidade de monitores: \"))\n",
        "numero_de_professores = 8\n",
        "if numero_de_alunos + numero_de_monitores + numero_de_professores <= 50:\n",
        "  resposta_positiva = \"pode ir\"\n",
        "resposta_negativa = \"não pode ir\"\n",
        "if numero_de_alunos + numero_de_monitores + numero_de_professores  <= 50:\n",
        "  print(resposta_positiva)\n",
        "else:\n",
        "  print(resposta_negativa)"
      ],
      "metadata": {
        "id": "DR32d0g7woeE"
      },
      "execution_count": null,
      "outputs": []
    },
    {
      "cell_type": "markdown",
      "source": [
        "#**Aula 4** ✨ 💗 🌺"
      ],
      "metadata": {
        "id": "t4ObGk0L0clM"
      }
    },
    {
      "cell_type": "code",
      "source": [
        "P = int(input(\"Digite a posição da porta P (0 ou 1): \"))\n",
        "R = int(input(\"Digite a posição da porta R (0 ou 1): \"))\n",
        "if P == 0:\n",
        "    print(\"C\")\n",
        "elif R == 1:\n",
        "    print(\"A\")\n",
        "else:\n",
        "    print(\"B\")"
      ],
      "metadata": {
        "id": "IVpCRGsv2TiG"
      },
      "execution_count": null,
      "outputs": []
    },
    {
      "cell_type": "markdown",
      "source": [
        "#**Aula 5** 💓 🦋 💫 tabuada"
      ],
      "metadata": {
        "id": "XFosz6vz62tn"
      }
    },
    {
      "cell_type": "code",
      "source": [
        "def tabuada(numero):\n",
        "    for contador in range(1, 11):  # Gera números de 1 a 10\n",
        "        print(f\"{numero} x {contador} = {numero * contador}\")\n",
        "numero = int(input(\"Digite um número para ver sua tabuada: \"))\n",
        "tabuada(numero)"
      ],
      "metadata": {
        "colab": {
          "base_uri": "https://localhost:8080/"
        },
        "id": "izrf-HeK7qck",
        "outputId": "c448a0ac-f245-4513-80e0-573e42ca0d20"
      },
      "execution_count": null,
      "outputs": [
        {
          "output_type": "stream",
          "name": "stdout",
          "text": [
            "Digite um número para ver sua tabuada: 6\n",
            "6 x 1 = 6\n",
            "6 x 2 = 12\n",
            "6 x 3 = 18\n",
            "6 x 4 = 24\n",
            "6 x 5 = 30\n",
            "6 x 6 = 36\n",
            "6 x 7 = 42\n",
            "6 x 8 = 48\n",
            "6 x 9 = 54\n",
            "6 x 10 = 60\n"
          ]
        }
      ]
    },
    {
      "cell_type": "markdown",
      "source": [
        "#**Aula 6** 🩰 💓 ✨ IMC"
      ],
      "metadata": {
        "id": "sRi_X8XR83CK"
      }
    },
    {
      "cell_type": "code",
      "source": [
        "peso = float(input(\"Digite seu peso (em kg): \"))\n",
        "altura = float(input(\"Digite sua altura (em metros): \"))\n",
        "imc = peso / (altura ** 2)\n",
        "print(f\"\\nSeu IMC é: {imc:.2f}\")\n",
        "if imc < 18.5:\n",
        "    print(\"Você está abaixo do peso.\")\n",
        "elif 18.5 <= imc < 25:\n",
        "    print(\"Você está no peso ideal.\")\n",
        "elif 25 <= imc < 30:\n",
        "    print(\"Você está com sobrepeso.\")\n",
        "else:\n",
        "    print(\"Você está acima do peso.\")"
      ],
      "metadata": {
        "colab": {
          "base_uri": "https://localhost:8080/",
          "height": 245
        },
        "id": "DPaxlup29NDi",
        "outputId": "59a116dc-5dba-440b-ec12-671da39bf4c6"
      },
      "execution_count": null,
      "outputs": [
        {
          "name": "stdout",
          "output_type": "stream",
          "text": [
            "Digite seu peso (em kg): 45\n",
            "Digite sua altura (em metros): 1,60\n"
          ]
        },
        {
          "output_type": "error",
          "ename": "ValueError",
          "evalue": "could not convert string to float: '1,60'",
          "traceback": [
            "\u001b[0;31m---------------------------------------------------------------------------\u001b[0m",
            "\u001b[0;31mValueError\u001b[0m                                Traceback (most recent call last)",
            "\u001b[0;32m/tmp/ipython-input-3472658501.py\u001b[0m in \u001b[0;36m<cell line: 0>\u001b[0;34m()\u001b[0m\n\u001b[1;32m      1\u001b[0m \u001b[0mpeso\u001b[0m \u001b[0;34m=\u001b[0m \u001b[0mfloat\u001b[0m\u001b[0;34m(\u001b[0m\u001b[0minput\u001b[0m\u001b[0;34m(\u001b[0m\u001b[0;34m\"Digite seu peso (em kg): \"\u001b[0m\u001b[0;34m)\u001b[0m\u001b[0;34m)\u001b[0m\u001b[0;34m\u001b[0m\u001b[0;34m\u001b[0m\u001b[0m\n\u001b[0;32m----> 2\u001b[0;31m \u001b[0maltura\u001b[0m \u001b[0;34m=\u001b[0m \u001b[0mfloat\u001b[0m\u001b[0;34m(\u001b[0m\u001b[0minput\u001b[0m\u001b[0;34m(\u001b[0m\u001b[0;34m\"Digite sua altura (em metros): \"\u001b[0m\u001b[0;34m)\u001b[0m\u001b[0;34m)\u001b[0m\u001b[0;34m\u001b[0m\u001b[0;34m\u001b[0m\u001b[0m\n\u001b[0m\u001b[1;32m      3\u001b[0m \u001b[0mimc\u001b[0m \u001b[0;34m=\u001b[0m \u001b[0mpeso\u001b[0m \u001b[0;34m/\u001b[0m \u001b[0;34m(\u001b[0m\u001b[0maltura\u001b[0m \u001b[0;34m**\u001b[0m \u001b[0;36m2\u001b[0m\u001b[0;34m)\u001b[0m\u001b[0;34m\u001b[0m\u001b[0;34m\u001b[0m\u001b[0m\n\u001b[1;32m      4\u001b[0m \u001b[0mprint\u001b[0m\u001b[0;34m(\u001b[0m\u001b[0;34mf\"\\nSeu IMC é: {imc:.2f}\"\u001b[0m\u001b[0;34m)\u001b[0m\u001b[0;34m\u001b[0m\u001b[0;34m\u001b[0m\u001b[0m\n\u001b[1;32m      5\u001b[0m \u001b[0;32mif\u001b[0m \u001b[0mimc\u001b[0m \u001b[0;34m<\u001b[0m \u001b[0;36m18.5\u001b[0m\u001b[0;34m:\u001b[0m\u001b[0;34m\u001b[0m\u001b[0;34m\u001b[0m\u001b[0m\n",
            "\u001b[0;31mValueError\u001b[0m: could not convert string to float: '1,60'"
          ]
        }
      ]
    },
    {
      "cell_type": "markdown",
      "source": [
        "#**Aula 7** 🦋 🍩 💐"
      ],
      "metadata": {
        "id": "RYX1KDyF2HPF"
      }
    },
    {
      "cell_type": "code",
      "source": [
        "print(\"sou seu assistente virtual, como posso ajudar? \\n\")\n",
        "nome = input (\"digite seu nome: \")\n",
        "print (\"Olá, \" + nome + \". Qual é sua dúvida hoje?\")"
      ],
      "metadata": {
        "colab": {
          "base_uri": "https://localhost:8080/"
        },
        "id": "AkVq533u2vay",
        "outputId": "e528b2b2-7814-4c56-b56e-92dff168ce9c"
      },
      "execution_count": null,
      "outputs": [
        {
          "output_type": "stream",
          "name": "stdout",
          "text": [
            "sou seu assistente virtual, como posso ajudar? \n",
            "\n",
            "digite seu nome: patricia\n",
            "Olá, patricia. Qual é sua dúvida hoje?\n"
          ]
        }
      ]
    },
    {
      "cell_type": "code",
      "source": [],
      "metadata": {
        "id": "TS2la1NQ5SPI"
      },
      "execution_count": null,
      "outputs": []
    },
    {
      "cell_type": "code",
      "source": [
        "print(\"sou seu assistente virtual, como posso ajudar? \\n\")\n",
        "nome = input (\"digite seu nome: \")\n",
        "print (f\"Olá, {nome}. Qual é sua dúvida hoje?\")\n",
        "resposta = input (\" Qual o assunto que deseja tratar: Matemáticia, Pyton, Javascript: \") .lower()\n",
        "if resposta ==\"pyton\":\n",
        "  print(f\"Que bom, {nome}, vamos falar sobre Pyton.É uma linguagem de programação conhecida pela simplicidade e clareza no código. \")\n",
        "elif resposta == \"jovascript\":\n",
        "  print(f\"Que bom, {nome}, vamos falar sobre Javascript. É a linguagem que torna as páginas da web interativas e dinâmicas.\")\n",
        "elif: resposta == \"Matemática\"\n",
        "  print(f\"Que bom, {nome}, vamos falar sobre Matemática. É a linguagem utilizada para compreender e descrever o universo.\")\n",
        "  else:\n",
        "    print (\"Desculpa, não sei tratar sobre este assunto\")\n"
      ],
      "metadata": {
        "colab": {
          "base_uri": "https://localhost:8080/"
        },
        "id": "Xgb8vtRW-Wgx",
        "outputId": "cd5a9ff9-9bae-46d7-c1d1-dc725e5eb9f9"
      },
      "execution_count": null,
      "outputs": [
        {
          "output_type": "stream",
          "name": "stdout",
          "text": [
            "sou seu assistente virtual, como posso ajudar? \n",
            "\n",
            "digite seu nome: Patricia\n",
            "Olá, Patricia. Qual é sua dúvida hoje?\n",
            " Qual o assunto que deseja tratar: Matemáticia, Pyton, Javascript: matemática\n",
            "Que bom, Patricia, vamos falar sobre Matemática. É a linguagem utilizada para compreender e descrever o universo.\n"
          ]
        }
      ]
    },
    {
      "cell_type": "markdown",
      "source": [
        "#**Aula 8** 🦋 🧶 👾"
      ],
      "metadata": {
        "id": "4735F9jgB7E9"
      }
    }
  ]
}